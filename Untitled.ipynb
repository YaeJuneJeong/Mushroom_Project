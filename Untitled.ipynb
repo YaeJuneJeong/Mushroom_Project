{
 "cells": [
  {
   "cell_type": "code",
   "execution_count": 24,
   "metadata": {},
   "outputs": [],
   "source": [
    "\n",
    "import pandas as pd\n",
    "import glob\n",
    "import numpy as np"
   ]
  },
  {
   "cell_type": "code",
   "execution_count": 11,
   "metadata": {},
   "outputs": [],
   "source": [
    "class picture():\n",
    "    # location = >array yolo format\n",
    "    def __init__(self,name,x,y,width,height):\n",
    "        self.name = name\n",
    "        self.x = x\n",
    "        self.y = y\n",
    "        self.width = width\n",
    "        self.height = height"
   ]
  },
  {
   "cell_type": "code",
   "execution_count": 35,
   "metadata": {},
   "outputs": [],
   "source": [
    "def get_point(dir_path):\n",
    "\n",
    "    mushroom_name = []\n",
    "    mushroom_x = []\n",
    "    mushroom_y = []\n",
    "    mushroom_width = []\n",
    "    mushroom_height = []\n",
    "    save = ['name','x','y','width','height']\n",
    "\n",
    "    dir_path = dir_path + '/*.txt'\n",
    "    for filename in glob.glob(dir_path):\n",
    "        fn = open(filename)\n",
    "\n",
    "        filename = filename.split('.',1)\n",
    "        filename = filename[0].split('\\\\')[1]\n",
    "        lines = fn.readlines()\n",
    "        for line in lines:\n",
    "            line = line.replace('\\n', '')\n",
    "            location = line.split(' ')\n",
    "            mushroom_name.append(filename)\n",
    "            mushroom_x.append(location[1])\n",
    "            mushroom_y.append(location[2])\n",
    "            mushroom_width.append(location[3])\n",
    "            mushroom_height.append(location[4])\n",
    "    # mushrooms = np.array(mushroom_name,mushroom_x,mushroom_y,mushroom_width,mushroom_height)\n",
    "    return pd.DataFrame({'name':mushroom_name,'x':mushroom_x,'y':mushroom_y,'width':mushroom_width,'height':mushroom_height})"
   ]
  },
  {
   "cell_type": "code",
   "execution_count": 36,
   "metadata": {},
   "outputs": [],
   "source": [
    "name_array = get_point('D:/txtfile/Agaricus')"
   ]
  },
  {
   "cell_type": "code",
   "execution_count": 38,
   "metadata": {},
   "outputs": [
    {
     "name": "stdout",
     "output_type": "stream",
     "text": [
      "               name         x         y     width    height\n",
      "0   038_B6UTpjQs0bw  0.223125  0.706823  0.326250  0.415778\n",
      "1   038_B6UTpjQs0bw  0.342500  0.428571  0.172500  0.383795\n",
      "2   038_B6UTpjQs0bw  0.502500  0.281450  0.200000  0.443497\n",
      "3   038_B6UTpjQs0bw  0.525000  0.682303  0.227500  0.383795\n",
      "4   038_B6UTpjQs0bw  0.781250  0.488273  0.235000  0.379531\n",
      "..              ...       ...       ...       ...       ...\n",
      "93  000_ePQknW8cTp8  0.201157  0.580000  0.204370  0.256667\n",
      "94  001_2jP9N_ipAo8  0.515714  0.529524  0.331429  0.346667\n",
      "95  001_2jP9N_ipAo8  0.174286  0.684762  0.302857  0.493333\n",
      "96  001_2jP9N_ipAo8  0.287143  0.375238  0.271429  0.350476\n",
      "97  001_2jP9N_ipAo8  0.828571  0.570476  0.317143  0.375238\n",
      "\n",
      "[98 rows x 5 columns]\n"
     ]
    }
   ],
   "source": [
    "print(name_array)"
   ]
  },
  {
   "cell_type": "code",
   "execution_count": 39,
   "metadata": {},
   "outputs": [],
   "source": [
    "name_array.to_csv('D:/data.csv')"
   ]
  },
  {
   "cell_type": "code",
   "execution_count": null,
   "metadata": {},
   "outputs": [],
   "source": []
  }
 ],
 "metadata": {
  "kernelspec": {
   "display_name": "cv2",
   "language": "python",
   "name": "cv2"
  },
  "language_info": {
   "codemirror_mode": {
    "name": "ipython",
    "version": 3
   },
   "file_extension": ".py",
   "mimetype": "text/x-python",
   "name": "python",
   "nbconvert_exporter": "python",
   "pygments_lexer": "ipython3",
   "version": "3.6.12"
  }
 },
 "nbformat": 4,
 "nbformat_minor": 4
}
